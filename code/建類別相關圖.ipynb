{
 "cells": [
  {
   "cell_type": "code",
   "execution_count": 1,
   "metadata": {},
   "outputs": [],
   "source": [
    "import pickle\n",
    "import os\n",
    "import numpy as np\n",
    "from scipy.spatial import distance\n",
    "import math\n",
    "from math import radians, cos, sin, asin, sqrt\n",
    "import random\n",
    "import torch\n",
    "import torch.utils.data as torchdata\n",
    "from torch.nn import init\n",
    "import time\n",
    "from torch import nn\n",
    "from gensim.models import Word2Vec\n",
    "import pandas as pd\n",
    "import matplotlib.pyplot as plt"
   ]
  },
  {
   "cell_type": "code",
   "execution_count": 3,
   "metadata": {},
   "outputs": [
    {
     "name": "stdout",
     "output_type": "stream",
     "text": [
      "208\n",
      "1083\n",
      "5130\n"
     ]
    }
   ],
   "source": [
    "#建類別辭典，dname切換資料\n",
    "dname='nyc'\n",
    "#dname='tky'\n",
    "data=pd.read_csv('../data/'+dname+'_filter_data.csv')\n",
    "catDic={}\n",
    "group=data.groupby('categid')\n",
    "for gid,i in group:\n",
    "    group_i=i.groupby('venueid')\n",
    "    catnum=len(group_i)\n",
    "    for cid , j in i.iterrows():\n",
    "        catDic[j['categid']]=[j['categid'],j['catname'],len(i),catnum]\n",
    "        break\n",
    "    \n",
    "\n",
    "catNum=len(catDic)\n",
    "userNum=len(data.groupby('userid'))\n",
    "poiNum=len(data.groupby('venueid'))\n",
    "print(len(catDic))\n",
    "print(userNum)\n",
    "print(poiNum)"
   ]
  },
  {
   "cell_type": "code",
   "execution_count": 10,
   "metadata": {},
   "outputs": [],
   "source": [
    "#正規畫\n",
    "def norm(data):\n",
    "    _range = np.max(data) - np.min(data)\n",
    "    return (data - np.min(data)) / _range"
   ]
  },
  {
   "cell_type": "code",
   "execution_count": 13,
   "metadata": {},
   "outputs": [
    {
     "name": "stdout",
     "output_type": "stream",
     "text": [
      "(1084, 208, 208)\n"
     ]
    }
   ],
   "source": [
    "#類別使用者圖\n",
    "catuserGraph=np.zeros((userNum+1,catNum,catNum))\n",
    "group=data.groupby('userid')\n",
    "for gid,j in group:\n",
    "    j=j.sort_values(by='timestamp')\n",
    "    outId=-1\n",
    "    inId=-1\n",
    "    past=0\n",
    "    now=0\n",
    "    for cid,i in j.iterrows():\n",
    "        userid=i['userid']\n",
    "        outId=inId\n",
    "        inId=i['categid']\n",
    "        past=now\n",
    "        now=i['timestamp']\n",
    "        time_int=now-past\n",
    "        if outId!=-1 and time_int<24*60*60:\n",
    "            catuserGraph[userid][outId][inId]+=1\n",
    "\n",
    "np.save('../list/'+dname+'_usercat_graph',catuserGraph)\n",
    "print(catuserGraph.shape)"
   ]
  },
  {
   "cell_type": "code",
   "execution_count": 14,
   "metadata": {},
   "outputs": [
    {
     "name": "stdout",
     "output_type": "stream",
     "text": [
      "(1084, 208, 208)\n",
      "15354\n",
      "(1084, 208, 208)\n",
      "15354\n"
     ]
    }
   ],
   "source": [
    "#正規化和平均\n",
    "catuserGraph=np.load('../list/'+dname+'_usercat_graph.npy')\n",
    "print(catuserGraph.shape)\n",
    "c1=0\n",
    "un=len(catuserGraph)\n",
    "cn=len(catuserGraph[0])\n",
    "for u in range(un):\n",
    "    for i in range(cn):\n",
    "        row_sum=np.sum(catuserGraph[u][i])\n",
    "        if row_sum>0:\n",
    "            catuserGraph[u][i]/=row_sum\n",
    "            c1+=1\n",
    "print(c1)\n",
    "np.save('../list/'+dname+'_usercat_Percent',catuserGraph)\n",
    "\n",
    "\n",
    "catuserGraph=np.load('../list/'+dname+'_usercat_graph.npy')\n",
    "print(catuserGraph.shape)\n",
    "c1=0\n",
    "for u in range(un):\n",
    "    for i in range(cn):\n",
    "        row_sum=np.sum(catuserGraph[u][i])\n",
    "        if row_sum>0:\n",
    "            catuserGraph[u][i]=norm(catuserGraph[u][i])\n",
    "            c1+=1\n",
    "print(c1)\n",
    "np.save('../list/'+dname+'_usercat_Norm',catuserGraph)\n",
    "\n",
    "\n",
    "                \n"
   ]
  },
  {
   "cell_type": "code",
   "execution_count": 15,
   "metadata": {},
   "outputs": [
    {
     "name": "stdout",
     "output_type": "stream",
     "text": [
      "(1084, 256, 256)\n"
     ]
    }
   ],
   "source": [
    "#使用者時間類別圖\n",
    "ctGraph=np.zeros((userNum+1,catNum+48,catNum+48))\n",
    "group=data.groupby('userid')\n",
    "for gid,j in group:\n",
    "    for cid,i in j.iterrows():\n",
    "        userid=i['userid']\n",
    "        time48=i['hour_48']\n",
    "        cat=i['categid']\n",
    "        ctGraph[userid][time48][cat+48]+=1\n",
    "        ctGraph[userid][cat+48][time48]+=1\n",
    "\n",
    "np.save('../list/'+dname+'_utc_graph',ctGraph)\n",
    "print(ctGraph.shape)"
   ]
  },
  {
   "cell_type": "code",
   "execution_count": 16,
   "metadata": {},
   "outputs": [
    {
     "name": "stdout",
     "output_type": "stream",
     "text": [
      "(1084, 256, 256)\n",
      "51606\n",
      "(1084, 256, 256)\n",
      "51606\n"
     ]
    }
   ],
   "source": [
    "ctGraph=np.load('../list/'+dname+'_utc_graph.npy')\n",
    "print(ctGraph.shape)\n",
    "c1=0\n",
    "un=len(ctGraph)\n",
    "cn=len(ctGraph[0])\n",
    "for u in range(un):\n",
    "    for i in range(cn):\n",
    "        row_sum=np.sum(ctGraph[u][i])\n",
    "        if row_sum>0:\n",
    "            ctGraph[u][i]/=row_sum\n",
    "            c1+=1\n",
    "print(c1)\n",
    "np.save('../list/'+dname+'_utc_Percent',ctGraph)\n",
    "\n",
    "\n",
    "ctGraph=np.load('../list/'+dname+'_utc_graph.npy')\n",
    "print(ctGraph.shape)\n",
    "c1=0\n",
    "for u in range(un):\n",
    "    for i in range(cn):\n",
    "        row_sum=np.sum(ctGraph[u][i])\n",
    "        if row_sum>0:\n",
    "            ctGraph[u][i]=norm(ctGraph[u][i])\n",
    "            c1+=1\n",
    "print(c1)\n",
    "np.save('../list/'+dname+'_utc_Norm',ctGraph)"
   ]
  }
 ],
 "metadata": {
  "kernelspec": {
   "display_name": "base",
   "language": "python",
   "name": "python3"
  },
  "language_info": {
   "codemirror_mode": {
    "name": "ipython",
    "version": 3
   },
   "file_extension": ".py",
   "mimetype": "text/x-python",
   "name": "python",
   "nbconvert_exporter": "python",
   "pygments_lexer": "ipython3",
   "version": "3.9.12"
  },
  "orig_nbformat": 4
 },
 "nbformat": 4,
 "nbformat_minor": 2
}
