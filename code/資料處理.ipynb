{
 "cells": [
  {
   "cell_type": "code",
   "execution_count": 1,
   "metadata": {},
   "outputs": [],
   "source": [
    "import pickle\n",
    "import pandas as pd\n",
    "import numpy as np\n",
    "import matplotlib.pyplot as plt\n",
    "import os\n",
    "import statistics\n",
    "import time\n",
    "import datetime"
   ]
  },
  {
   "cell_type": "code",
   "execution_count": 2,
   "metadata": {},
   "outputs": [],
   "source": [
    "col_name=[\"userid\", \"venueid\", \"catid\", \"catname\", \"latitute\", \"longitude\", \"timezone\", \"time\"]"
   ]
  },
  {
   "cell_type": "code",
   "execution_count": 3,
   "metadata": {},
   "outputs": [
    {
     "name": "stdout",
     "output_type": "stream",
     "text": [
      "573703\n",
      "訓練資料集總數: 573126\n",
      "Index(['userid', 'venueid', 'catid', 'catname', 'latitute', 'longitude',\n",
      "       'timezone', 'time'],\n",
      "      dtype='object')\n",
      "user :  2293\n",
      "poi :  61858\n",
      "cat :  385\n",
      "cat name:  247\n",
      "poi過濾後: 447076\tuser過濾後: 447076\n",
      "user :  2293\n",
      "poi :  7870\n",
      "cat :  190\n"
     ]
    }
   ],
   "source": [
    "#對東京資料過濾，POI和使用者的簽到記錄需要大於10才保留\n",
    "data = pd.read_csv('../data/foursquare/TKY.txt',sep='\\t' , header=None,encoding='latin-1',names=col_name)\n",
    "print(len(data))\n",
    "data=data.drop_duplicates()\n",
    "\n",
    "print('訓練資料集總數:',len(data))\n",
    "print(data.columns)\n",
    "print('user : ',len(data.groupby('userid')))\n",
    "print('poi : ',len(data.groupby('venueid')))\n",
    "print('cat : ',len(data.groupby('catid')))\n",
    "print('cat name: ',len(data.groupby('catname')))\n",
    "filter1= data.groupby('venueid').filter(lambda x: len(x) >= 10)\n",
    "data= filter1.groupby('userid').filter(lambda x: len(x) >= 10)\n",
    "print(\"poi過濾後:\",len(filter1),end='\\t')\n",
    "print(\"user過濾後:\",len(data))\n",
    "print('user : ',len(data.groupby('userid')))\n",
    "print('poi : ',len(data.groupby('venueid')))\n",
    "print('cat : ',len(data.groupby('catname')))"
   ]
  },
  {
   "cell_type": "code",
   "execution_count": 6,
   "metadata": {},
   "outputs": [
    {
     "name": "stdout",
     "output_type": "stream",
     "text": [
      "227428\n",
      "訓練資料集總數: 227178\n",
      "Index(['userid', 'venueid', 'catid', 'catname', 'latitute', 'longitude',\n",
      "       'timezone', 'time'],\n",
      "      dtype='object')\n",
      "user :  1083\n",
      "poi :  38333\n",
      "cat :  400\n",
      "cat name:  251\n",
      "poi過濾後: 147729\tuser過濾後: 147729\n",
      "user :  1083\n",
      "poi :  5130\n",
      "cat :  208\n"
     ]
    }
   ],
   "source": [
    "#對紐約資料過濾\n",
    "data2 = pd.read_csv('../data/foursquare/NYC.txt',sep='\\t' , header=None,encoding='latin-1',names=col_name)\n",
    "print(len(data2))\n",
    "data2=data2.drop_duplicates()\n",
    "\n",
    "print('訓練資料集總數:',len(data2))\n",
    "print(data2.columns)\n",
    "print('user : ',len(data2.groupby('userid')))\n",
    "print('poi : ',len(data2.groupby('venueid')))\n",
    "print('cat : ',len(data2.groupby('catid')))\n",
    "print('cat name: ',len(data2.groupby('catname')))\n",
    "filter1= data2.groupby('venueid').filter(lambda x: len(x) >= 10)\n",
    "data2= filter1.groupby('userid').filter(lambda x: len(x) >= 10)\n",
    "print(\"poi過濾後:\",len(filter1),end='\\t')\n",
    "print(\"user過濾後:\",len(data2))\n",
    "print('user : ',len(data2.groupby('userid')))\n",
    "print('poi : ',len(data2.groupby('venueid')))\n",
    "print('cat : ',len(data2.groupby('catname')))"
   ]
  },
  {
   "cell_type": "code",
   "execution_count": 7,
   "metadata": {},
   "outputs": [],
   "source": [
    "#處理資料，產生新的特徵\n",
    "def data_process(data):\n",
    "    timestamp = []\n",
    "    hour = []\n",
    "    day = []\n",
    "    week = []\n",
    "    hour_48 = []\n",
    "    venuedic={}\n",
    "    catdic={}\n",
    "    poi=[]\n",
    "    cat=[]\n",
    "    poicount=0\n",
    "    catcount=0\n",
    "    print(len(data))\n",
    "    for i in range(len(data)):\n",
    "        times = data['time'].values[i]\n",
    "        venue = data['venueid'].values[i]\n",
    "        categ = data['catname'].values[i]\n",
    "        timestamp.append(time.mktime(time.strptime(times, '%a %b %d %H:%M:%S %z %Y')))              #總秒數\n",
    "        t = datetime.datetime.strptime(times,'%a %b %d %H:%M:%S %z %Y')                             #datatime元組\n",
    "        year = int(t.strftime('%Y'))\n",
    "        day_i = int(t.strftime('%j'))\n",
    "        week_i = int(t.strftime('%w'))\n",
    "        hour_i = int(t.strftime('%H'))\n",
    "        hour_i_48 = hour_i\n",
    "        if week_i == 0 or week_i == 6:\n",
    "            hour_i_48 = hour_i + 24\n",
    "\n",
    "        if year == 2013:\n",
    "            day_i = day_i + 366\n",
    "        \n",
    "        if venue not in venuedic.keys():\n",
    "            venuedic[venue]=poicount\n",
    "            poicount+=1\n",
    "        if categ not in catdic.keys():\n",
    "            catdic[categ]=catcount\n",
    "            catcount+=1\n",
    "\n",
    "        poi.append(venuedic[venue])\n",
    "        cat.append(catdic[categ])\n",
    "        day.append(day_i)\n",
    "        hour.append(hour_i)\n",
    "        hour_48.append(int(hour_i_48))\n",
    "        week.append(week_i)\n",
    "\n",
    "    data['venueid']=poi\n",
    "    data['categid']=cat\n",
    "    data['timestamp'] = timestamp\n",
    "    data['hour'] = hour\n",
    "    data['day'] = day\n",
    "    data['week'] = week\n",
    "    data['hour_48'] = hour_48\n",
    "\n",
    "    print(poicount)\n",
    "    print(catcount)\n",
    "    return data"
   ]
  },
  {
   "cell_type": "code",
   "execution_count": 10,
   "metadata": {},
   "outputs": [
    {
     "name": "stdout",
     "output_type": "stream",
     "text": [
      "447076\n",
      "7870\n",
      "190\n",
      "227178\n",
      "38333\n",
      "251\n"
     ]
    }
   ],
   "source": [
    "data=data_process(data)\n",
    "data2=data_process(data2)"
   ]
  },
  {
   "cell_type": "code",
   "execution_count": 11,
   "metadata": {},
   "outputs": [],
   "source": [
    "data.to_csv('../data/tky_filter_data.csv', index=False)\n",
    "#data2.to_csv('../data/nyc_filter_data.csv', index=False)\n",
    "data2.to_csv('../data/nyc_data.csv', index=False)"
   ]
  }
 ],
 "metadata": {
  "kernelspec": {
   "display_name": "base",
   "language": "python",
   "name": "python3"
  },
  "language_info": {
   "codemirror_mode": {
    "name": "ipython",
    "version": 3
   },
   "file_extension": ".py",
   "mimetype": "text/x-python",
   "name": "python",
   "nbconvert_exporter": "python",
   "pygments_lexer": "ipython3",
   "version": "3.9.12"
  },
  "orig_nbformat": 4,
  "vscode": {
   "interpreter": {
    "hash": "cdc4710465637497c3384a9a94ff34762b66d87ddbf5df8d15cf56aada0f0a09"
   }
  }
 },
 "nbformat": 4,
 "nbformat_minor": 2
}
