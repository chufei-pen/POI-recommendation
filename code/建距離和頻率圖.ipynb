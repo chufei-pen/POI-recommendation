{
 "cells": [
  {
   "cell_type": "code",
   "execution_count": 2,
   "metadata": {},
   "outputs": [],
   "source": [
    "import pickle\n",
    "import os\n",
    "import numpy as np\n",
    "from scipy.spatial import distance\n",
    "import math\n",
    "from math import radians, cos, sin, asin, sqrt\n",
    "import random\n",
    "import torch\n",
    "import torch.utils.data as torchdata\n",
    "from torch.nn import init\n",
    "import time\n",
    "from torch import nn\n",
    "from gensim.models import Word2Vec\n",
    "import pandas as pd\n",
    "import matplotlib.pyplot as plt"
   ]
  },
  {
   "cell_type": "code",
   "execution_count": 3,
   "metadata": {},
   "outputs": [],
   "source": [
    "#計算經緯度距離的公式\n",
    "def dis(lon1, lat1, lon2, lat2):\n",
    "    \"\"\"\n",
    "    Calculate the great circle distance between two points \n",
    "    on the earth (specified in decimal degrees)\n",
    "    \"\"\"\n",
    "    # convert decimal degrees to radians \n",
    "    lon1, lat1, lon2, lat2 = map(radians, [lon1, lat1, lon2, lat2])\n",
    "    # haversine formula \n",
    "    dlon = lon2 - lon1 \n",
    "    dlat = lat2 - lat1 \n",
    "    a = sin(dlat/2)**2 + cos(lat1) * cos(lat2) * sin(dlon/2)**2\n",
    "    c = 2 * asin(sqrt(a)) \n",
    "    # Radius of earth in kilometers is 6371\n",
    "    km = 6371* c\n",
    "    return km\n",
    "\n",
    "def Gaussian(sigma,distance):\n",
    "    return np.exp((-(distance**2))/(2*sigma**2))"
   ]
  },
  {
   "cell_type": "code",
   "execution_count": 4,
   "metadata": {},
   "outputs": [
    {
     "name": "stdout",
     "output_type": "stream",
     "text": [
      "147729\n",
      "5130\n",
      "208\n",
      "1083\n",
      "Index(['userid', 'venueid', 'catid', 'catname', 'latitute', 'longitude',\n",
      "       'timezone', 'time', 'categid', 'timestamp', 'hour', 'day', 'week',\n",
      "       'hour_48'],\n",
      "      dtype='object')\n"
     ]
    }
   ],
   "source": [
    "#讀取過濾後的資料，dname切換東京和紐約資料\n",
    "dname='nyc'\n",
    "#dname='tky'\n",
    "data=pd.read_csv('../data/'+dname+'_filter_data.csv')\n",
    "print(len(data))\n",
    "poiNum=len(data.groupby('venueid'))\n",
    "catNum=len(data.groupby('categid'))\n",
    "userNum=len(data.groupby('userid'))\n",
    "print(poiNum)\n",
    "print(catNum)\n",
    "print(userNum)\n",
    "print(data.columns)\n"
   ]
  },
  {
   "cell_type": "code",
   "execution_count": 5,
   "metadata": {},
   "outputs": [
    {
     "name": "stdout",
     "output_type": "stream",
     "text": [
      "5130\n"
     ]
    }
   ],
   "source": [
    "#建POI辭典\n",
    "poiDic={}\n",
    "for cid,i in data.iterrows():\n",
    "    if i['venueid'] not in poiDic.keys():\n",
    "        poiDic[i['venueid']]=[i['longitude'],i['latitute'],i['catname']]\n",
    "print(len(poiDic))"
   ]
  },
  {
   "cell_type": "code",
   "execution_count": 27,
   "metadata": {},
   "outputs": [
    {
     "name": "stdout",
     "output_type": "stream",
     "text": [
      "100620\n",
      "avg: 3.800053551416633\n",
      "1/4: 0.17882452231813556\n",
      "1/2: 1.156626982775126\n",
      "7/10: 3.969041842343574\n",
      "3/4: 5.140021235858542\n"
     ]
    }
   ],
   "source": [
    "#分析使用者移動距離分布\n",
    "group=data.groupby('userid')\n",
    "dlist=[]\n",
    "for gid,j in group:\n",
    "    j=j.sort_values(by='timestamp')\n",
    "    pastlong=0\n",
    "    pastlat=0\n",
    "    now=0\n",
    "    past=0\n",
    "    for cid,i in j.iterrows():\n",
    "        past=now\n",
    "        now=i['timestamp']\n",
    "        time_int=now-past\n",
    "        if past!=0 and time_int<24*60*60:\n",
    "            dist=dis(i['longitude'],i['latitute'],pastlong,pastlat)\n",
    "            dlist.append(dist)\n",
    "        pastlong=i['longitude']\n",
    "        pastlat=i['latitute']\n",
    "\n",
    "l=len(dlist)\n",
    "dlist=sorted(dlist)\n",
    "print(l)\n",
    "print('avg:',sum(dlist)/len(dlist))\n",
    "print(\"1/4:\",dlist[int(l/4)])\n",
    "print(\"1/2:\",dlist[int(l/2)])\n",
    "print(\"7/10:\",dlist[int(l*7/10)])\n",
    "print(\"3/4:\",dlist[int(l*3/4)])"
   ]
  },
  {
   "cell_type": "code",
   "execution_count": 60,
   "metadata": {},
   "outputs": [
    {
     "name": "stdout",
     "output_type": "stream",
     "text": [
      "440.18557504873297\n",
      "5130\n",
      "49.62806204029162\n",
      "0.0003538064661719978\n"
     ]
    }
   ],
   "source": [
    "#位置距離圖\n",
    "connect=0\n",
    "graph=np.zeros((poiNum,poiNum))\n",
    "len_limit=2         #距離門檻\n",
    "sig=1       #sig 越大數字越大\n",
    "maxdis=0\n",
    "mindis=10000\n",
    "for i in poiDic.keys():\n",
    "    for j in poiDic.keys():\n",
    "        distance=dis(poiDic[i][0],poiDic[i][1],poiDic[j][0],poiDic[j][1])\n",
    "        if distance>maxdis:\n",
    "            maxdis=distance\n",
    "        if distance<mindis and distance!=0:\n",
    "            mindis=distance\n",
    "        if distance<=len_limit and distance>0:\n",
    "            connect+=1\n",
    "            graph[i][j]=Gaussian(sig,distance)\n",
    "        \n",
    "\n",
    "print(len(graph))\n",
    "print(maxdis)\n",
    "print(mindis)\n",
    "np.save('../list/'+dname+'_dis_graph',graph)"
   ]
  },
  {
   "cell_type": "code",
   "execution_count": 12,
   "metadata": {},
   "outputs": [
    {
     "name": "stdout",
     "output_type": "stream",
     "text": [
      "13.94999706196129\n"
     ]
    },
    {
     "data": {
      "image/png": "[encoded data removed]",
      "text/plain": [
       "<Figure size 432x288 with 1 Axes>"
      ]
     },
     "metadata": {
      "needs_background": "light"
     },
     "output_type": "display_data"
    },
    {
     "data": {
      "text/plain": [
       "<Figure size 2880x1440 with 0 Axes>"
      ]
     },
     "metadata": {},
     "output_type": "display_data"
    }
   ],
   "source": [
    "x=[]\n",
    "y=[]\n",
    "for i in poiDic.values():\n",
    "    x.append(i[0])\n",
    "    y.append(i[1])\n",
    "plt.scatter(x, y)\n",
    "print(dis(-74.0,40.7,-73.9,40.8))\n",
    "plt.figure(figsize=(40, 20))\n",
    "plt.show()"
   ]
  },
  {
   "cell_type": "code",
   "execution_count": 5,
   "metadata": {},
   "outputs": [
    {
     "name": "stdout",
     "output_type": "stream",
     "text": [
      "(7870, 7870)\n"
     ]
    }
   ],
   "source": [
    "#頻率圖\n",
    "freqGraph=np.zeros((poiNum,poiNum))\n",
    "group=data.groupby('userid')\n",
    "for gid,j in group:\n",
    "    j=j.sort_values(by='timestamp')\n",
    "    outId=-1\n",
    "    inId=-1\n",
    "    past=0\n",
    "    now=0\n",
    "    for cid,i in j.iterrows():\n",
    "        outId=inId\n",
    "        past=now\n",
    "        inId=i['venueid']\n",
    "        now=i['timestamp']\n",
    "        time_int=now-past\n",
    "        if outId!=-1 and time_int<24*60*60:\n",
    "            freqGraph[outId][inId]+=1\n",
    "\n",
    "print(freqGraph.shape)\n",
    "np.save('../list/'+dname+'_freq_graph',freqGraph)"
   ]
  }
 ],
 "metadata": {
  "kernelspec": {
   "display_name": "base",
   "language": "python",
   "name": "python3"
  },
  "language_info": {
   "codemirror_mode": {
    "name": "ipython",
    "version": 3
   },
   "file_extension": ".py",
   "mimetype": "text/x-python",
   "name": "python",
   "nbconvert_exporter": "python",
   "pygments_lexer": "ipython3",
   "version": "3.9.12"
  },
  "orig_nbformat": 4,
  "vscode": {
   "interpreter": {
    "hash": "cdc4710465637497c3384a9a94ff34762b66d87ddbf5df8d15cf56aada0f0a09"
   }
  }
 },
 "nbformat": 4,
 "nbformat_minor": 2
}
