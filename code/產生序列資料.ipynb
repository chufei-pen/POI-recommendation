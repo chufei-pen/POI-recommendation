{
 "cells": [
  {
   "cell_type": "code",
   "execution_count": null,
   "metadata": {},
   "outputs": [],
   "source": [
    "import pickle\n",
    "import pandas as pd\n",
    "import os\n",
    "import numpy as np"
   ]
  },
  {
   "cell_type": "code",
   "execution_count": 2,
   "metadata": {},
   "outputs": [
    {
     "name": "stdout",
     "output_type": "stream",
     "text": [
      "Index(['userid', 'venueid', 'catid', 'catname', 'latitute', 'longitude',\n",
      "       'timezone', 'time', 'categid', 'timestamp', 'hour', 'day', 'week',\n",
      "       'hour_48'],\n",
      "      dtype='object')\n"
     ]
    }
   ],
   "source": [
    "dataN=pd.read_csv('../data/nyc_filter_data.csv')\n",
    "dataT=pd.read_csv('../data/tky_filter_data.csv')\n",
    "print(dataT.columns)"
   ]
  },
  {
   "cell_type": "code",
   "execution_count": 4,
   "metadata": {},
   "outputs": [
    {
     "name": "stdout",
     "output_type": "stream",
     "text": [
      "序列數: 15992\n",
      "序列數: 38360\n"
     ]
    }
   ],
   "source": [
    "#產生序列資料   長短不限需要padding  至少需要3\n",
    "def pad_data(data,n):\n",
    "    seqlen=n\n",
    "    dataList=[]\n",
    "    group=data.groupby('userid')\n",
    "    for cid,i in group:\n",
    "        i=i.sort_values(by='timestamp')\n",
    "        seq=[]\n",
    "        nowseq=[]\n",
    "        nowtime=0\n",
    "        pasttime=0\n",
    "        for z,j in i.iterrows():\n",
    "            nowtime=j['timestamp']\n",
    "            #序列中每個簽到只取以下幾個特徵\n",
    "            nowseq=[j['userid'],j['venueid'],j['categid'],j['latitute'],j['longitude'],j['hour'],j['hour_48'],j['week'],j['timestamp']]\n",
    "            tint=nowtime-pasttime\n",
    "            if len(seq)>=15:                               #設定序列最長為15\n",
    "                dataList.append(seq)\n",
    "                seq=[]\n",
    "                seq.append(nowseq)\n",
    "                pasttime=nowtime\n",
    "            elif pasttime==0 or tint<60*60*24:             #超過1天則斷開\n",
    "                seq.append(nowseq)\n",
    "                pasttime=nowtime\n",
    "            else:\n",
    "                if len(seq)>=seqlen:\n",
    "                    dataList.append(seq)\n",
    "                seq=[]\n",
    "                seq.append(nowseq)\n",
    "                pasttime=nowtime\n",
    "        if len(seq)>=seqlen:\n",
    "            dataList.append(seq)\n",
    "    print(\"序列數:\",len(dataList))\n",
    "    return dataList\n",
    "\n",
    "\n",
    "pad_N=pad_data(dataN,3)\n",
    "with open('../data/nyc_seq_data_pad', 'wb') as fp:\n",
    "    pickle.dump(pad_N, fp)\n",
    "pad_T=pad_data(dataT,3)\n",
    "with open('../data/tky_seq_data_pad', 'wb') as fp:\n",
    "    pickle.dump(pad_T, fp)"
   ]
  },
  {
   "cell_type": "code",
   "execution_count": 10,
   "metadata": {},
   "outputs": [
    {
     "name": "stdout",
     "output_type": "stream",
     "text": [
      "6.5580915457728866\n"
     ]
    }
   ],
   "source": [
    "#平均序列長度\n",
    "sumlen=0\n",
    "c=0\n",
    "for i in pad_N:\n",
    "    #print(i)\n",
    "    #print(len(i))\n",
    "    sumlen+=len(i)\n",
    "    c+=1\n",
    "print(sumlen/c)"
   ]
  }
 ],
 "metadata": {
  "kernelspec": {
   "display_name": "base",
   "language": "python",
   "name": "python3"
  },
  "language_info": {
   "codemirror_mode": {
    "name": "ipython",
    "version": 3
   },
   "file_extension": ".py",
   "mimetype": "text/x-python",
   "name": "python",
   "nbconvert_exporter": "python",
   "pygments_lexer": "ipython3",
   "version": "3.9.12"
  },
  "orig_nbformat": 4,
  "vscode": {
   "interpreter": {
    "hash": "cdc4710465637497c3384a9a94ff34762b66d87ddbf5df8d15cf56aada0f0a09"
   }
  }
 },
 "nbformat": 4,
 "nbformat_minor": 2
}
